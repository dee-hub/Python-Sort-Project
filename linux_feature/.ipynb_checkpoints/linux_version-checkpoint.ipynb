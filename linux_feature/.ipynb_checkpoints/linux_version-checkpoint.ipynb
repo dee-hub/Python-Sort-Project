{
 "cells": [
  {
   "cell_type": "code",
   "execution_count": 1,
   "metadata": {},
   "outputs": [],
   "source": [
    "import tkinter as tk\n",
    "import os\n",
    "\n",
    "def search_files(extension, folder):\n",
    "    ''''''\n",
    "    for r, d, f in os.walk(folder):\n",
    "        for file in f:\n",
    "            if file.endswith(extension): \n",
    "                lb.insert(0, r + '/' + file)\n",
    "                \n",
    "def exit_window():\n",
    "    '''Exit button that ends the mainloop() function'''\n",
    "    win.destroy() #this exit the window not like it will destroy the window as the function name implies\n",
    "    \n",
    "def open_file():\n",
    "    '''we might want to open the files displayed on the window'''\n",
    "    os.startfile(lb.get(lb.curselection()[0]))\n",
    "    \n",
    "#main GUI\n",
    "win = tk.Tk() # creates the root window where all the widgets go\n",
    "win.geometry('500x600')\n",
    "win.title('mp4 Files')\n",
    "    \n",
    "    \n",
    "#list box to list all available files\n",
    "lb = tk.Listbox(win)\n",
    "lb.pack(fill='both', expand=1)\n",
    "lb.bind('<Double-Button>', lambda: open_file())\n",
    "\n",
    "\n",
    "#this creates a button that once we click the search begins\n",
    "search_button = tk.Button(win, text='Search', command=lambda: search_files('.mp4', \"/home/\"))\n",
    "search_button.pack(side='top') #puts the search buttons into the win\n",
    "\n",
    "#the exit button to close the entire window\n",
    "exit_button = tk.Button(win, text='Exit', command=lambda: exit_window())\n",
    "exit_button.pack()\n",
    "\n",
    "win.mainloop()# starts the event loop"
   ]
  },
  {
   "cell_type": "code",
   "execution_count": null,
   "metadata": {},
   "outputs": [],
   "source": []
  }
 ],
 "metadata": {
  "kernelspec": {
   "display_name": "Python 3",
   "language": "python",
   "name": "python3"
  },
  "language_info": {
   "codemirror_mode": {
    "name": "ipython",
    "version": 3
   },
   "file_extension": ".py",
   "mimetype": "text/x-python",
   "name": "python",
   "nbconvert_exporter": "python",
   "pygments_lexer": "ipython3",
   "version": "3.7.6"
  }
 },
 "nbformat": 4,
 "nbformat_minor": 4
}
